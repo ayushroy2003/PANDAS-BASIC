{
 "cells": [
  {
   "cell_type": "markdown",
   "id": "becfb77a-e4db-4eb4-ab17-97e2a2ebee0b",
   "metadata": {},
   "source": [
    "Q1. Create a Pandas Series that contains the following data: 4, 8, 15, 16, 23, and 42. Then, print the series.\n"
   ]
  },
  {
   "cell_type": "code",
   "execution_count": 1,
   "id": "27e9a59e-c034-464b-ab34-577f10637367",
   "metadata": {},
   "outputs": [],
   "source": [
    "import pandas as pd\n",
    "data = [4,8,15,16,23,42]\n",
    "pseries = pd.Series(data)"
   ]
  },
  {
   "cell_type": "code",
   "execution_count": 2,
   "id": "f7723d79-aad6-47ab-a9a9-4c074fe34ba3",
   "metadata": {},
   "outputs": [
    {
     "name": "stdout",
     "output_type": "stream",
     "text": [
      "0     4\n",
      "1     8\n",
      "2    15\n",
      "3    16\n",
      "4    23\n",
      "5    42\n",
      "dtype: int64\n"
     ]
    }
   ],
   "source": [
    "print(pseries)"
   ]
  },
  {
   "cell_type": "markdown",
   "id": "a19ec000-5a2e-494b-95b5-d48e50afb858",
   "metadata": {},
   "source": [
    "Q2. Create a variable of list type containing 10 elements in it, and apply pandas.Series function on the\n",
    "variable print it.\n",
    "\n",
    "Ans-"
   ]
  },
  {
   "cell_type": "code",
   "execution_count": 3,
   "id": "3fc284e5-a9b6-4265-a2b7-f9d3642c2f96",
   "metadata": {},
   "outputs": [],
   "source": [
    "my_list = [26,24,4,6,8,3,5,33,77,66]\n",
    "\n",
    "ayush_series = pd.Series(my_list)"
   ]
  },
  {
   "cell_type": "code",
   "execution_count": 4,
   "id": "f0f3ec0b-3ba9-4339-9376-caa4ecb705c4",
   "metadata": {},
   "outputs": [
    {
     "name": "stdout",
     "output_type": "stream",
     "text": [
      "0    26\n",
      "1    24\n",
      "2     4\n",
      "3     6\n",
      "4     8\n",
      "5     3\n",
      "6     5\n",
      "7    33\n",
      "8    77\n",
      "9    66\n",
      "dtype: int64\n"
     ]
    }
   ],
   "source": [
    "print(ayush_series)"
   ]
  },
  {
   "cell_type": "markdown",
   "id": "3371a358-93d2-4292-8dcc-1ae563ae2d60",
   "metadata": {},
   "source": [
    "Q3. Create a Pandas DataFrame that contains the following data:\n",
    "Then, print the DataFrame.\n",
    "\n",
    "Ans"
   ]
  },
  {
   "cell_type": "code",
   "execution_count": 5,
   "id": "48e4b435-0b5d-45a2-9ec6-b1c2827573e1",
   "metadata": {},
   "outputs": [],
   "source": [
    "data = {\n",
    "    \"Name\" :[\"Alice\",\"Bob\",\"Clair\"],\n",
    "    \"Age\" :[25,30,27],\n",
    "    \"Gender\" :[\"Female\",\"Male\",\"Female\"]\n",
    "}\n",
    "    \n",
    "df = pd.DataFrame(data)"
   ]
  },
  {
   "cell_type": "code",
   "execution_count": 6,
   "id": "ae145527-5ee0-4115-aeb8-3337f89b3817",
   "metadata": {},
   "outputs": [
    {
     "data": {
      "text/html": [
       "<div>\n",
       "<style scoped>\n",
       "    .dataframe tbody tr th:only-of-type {\n",
       "        vertical-align: middle;\n",
       "    }\n",
       "\n",
       "    .dataframe tbody tr th {\n",
       "        vertical-align: top;\n",
       "    }\n",
       "\n",
       "    .dataframe thead th {\n",
       "        text-align: right;\n",
       "    }\n",
       "</style>\n",
       "<table border=\"1\" class=\"dataframe\">\n",
       "  <thead>\n",
       "    <tr style=\"text-align: right;\">\n",
       "      <th></th>\n",
       "      <th>Name</th>\n",
       "      <th>Age</th>\n",
       "      <th>Gender</th>\n",
       "    </tr>\n",
       "  </thead>\n",
       "  <tbody>\n",
       "    <tr>\n",
       "      <th>0</th>\n",
       "      <td>Alice</td>\n",
       "      <td>25</td>\n",
       "      <td>Female</td>\n",
       "    </tr>\n",
       "    <tr>\n",
       "      <th>1</th>\n",
       "      <td>Bob</td>\n",
       "      <td>30</td>\n",
       "      <td>Male</td>\n",
       "    </tr>\n",
       "    <tr>\n",
       "      <th>2</th>\n",
       "      <td>Clair</td>\n",
       "      <td>27</td>\n",
       "      <td>Female</td>\n",
       "    </tr>\n",
       "  </tbody>\n",
       "</table>\n",
       "</div>"
      ],
      "text/plain": [
       "    Name  Age  Gender\n",
       "0  Alice   25  Female\n",
       "1    Bob   30    Male\n",
       "2  Clair   27  Female"
      ]
     },
     "execution_count": 6,
     "metadata": {},
     "output_type": "execute_result"
    }
   ],
   "source": [
    "df"
   ]
  },
  {
   "cell_type": "code",
   "execution_count": 7,
   "id": "196fa9bb-a8c0-4542-8237-f5fb21b4f375",
   "metadata": {},
   "outputs": [
    {
     "data": {
      "text/plain": [
       "pandas.core.frame.DataFrame"
      ]
     },
     "execution_count": 7,
     "metadata": {},
     "output_type": "execute_result"
    }
   ],
   "source": [
    "type(df)"
   ]
  },
  {
   "cell_type": "markdown",
   "id": "9ee5bf23-4929-4b96-ac5f-a72959e35579",
   "metadata": {},
   "source": [
    "Q4. What is ‘DataFrame’ in pandas and how is it different from pandas.series? Explain with an example.\n",
    "\n",
    "Ans- \n",
    "\n",
    "Dataframe - dataFrame is a two dimensional ,tabular data structure that consists of rows and columns it is smilar to a spreadsheet or sql table \n",
    "\n",
    "Pandas.Series - Pandas Series is one dimensional array and a specified name \n",
    "Series is useful when dealing with a singal variable or feature "
   ]
  },
  {
   "cell_type": "code",
   "execution_count": 8,
   "id": "846c8225-a514-4423-a37b-ba4b2ad1c361",
   "metadata": {},
   "outputs": [],
   "source": [
    "#DATAFRAME EXAMPLE\n",
    "d_example = {\n",
    "    'name' : ['ayush','simran','sweta','rajesh'],\n",
    "    'age' : [20,16,18,45],\n",
    "}\n",
    "df1 = pd.DataFrame(d_example)\n",
    "\n",
    "#series_example\n",
    "\n",
    "s_example = pd.Series([3,3,23,32,332,3,2,232,])\n",
    "\n"
   ]
  },
  {
   "cell_type": "code",
   "execution_count": 9,
   "id": "69ad8a93-d27c-4b69-b5a4-3eab9ce51101",
   "metadata": {},
   "outputs": [
    {
     "data": {
      "text/html": [
       "<div>\n",
       "<style scoped>\n",
       "    .dataframe tbody tr th:only-of-type {\n",
       "        vertical-align: middle;\n",
       "    }\n",
       "\n",
       "    .dataframe tbody tr th {\n",
       "        vertical-align: top;\n",
       "    }\n",
       "\n",
       "    .dataframe thead th {\n",
       "        text-align: right;\n",
       "    }\n",
       "</style>\n",
       "<table border=\"1\" class=\"dataframe\">\n",
       "  <thead>\n",
       "    <tr style=\"text-align: right;\">\n",
       "      <th></th>\n",
       "      <th>name</th>\n",
       "      <th>age</th>\n",
       "    </tr>\n",
       "  </thead>\n",
       "  <tbody>\n",
       "    <tr>\n",
       "      <th>0</th>\n",
       "      <td>ayush</td>\n",
       "      <td>20</td>\n",
       "    </tr>\n",
       "    <tr>\n",
       "      <th>1</th>\n",
       "      <td>simran</td>\n",
       "      <td>16</td>\n",
       "    </tr>\n",
       "    <tr>\n",
       "      <th>2</th>\n",
       "      <td>sweta</td>\n",
       "      <td>18</td>\n",
       "    </tr>\n",
       "    <tr>\n",
       "      <th>3</th>\n",
       "      <td>rajesh</td>\n",
       "      <td>45</td>\n",
       "    </tr>\n",
       "  </tbody>\n",
       "</table>\n",
       "</div>"
      ],
      "text/plain": [
       "     name  age\n",
       "0   ayush   20\n",
       "1  simran   16\n",
       "2   sweta   18\n",
       "3  rajesh   45"
      ]
     },
     "execution_count": 9,
     "metadata": {},
     "output_type": "execute_result"
    }
   ],
   "source": [
    "df1"
   ]
  },
  {
   "cell_type": "code",
   "execution_count": 10,
   "id": "e3337844-7fee-4330-a025-3037c114fca2",
   "metadata": {},
   "outputs": [
    {
     "name": "stdout",
     "output_type": "stream",
     "text": [
      "0      3\n",
      "1      3\n",
      "2     23\n",
      "3     32\n",
      "4    332\n",
      "5      3\n",
      "6      2\n",
      "7    232\n",
      "dtype: int64\n"
     ]
    }
   ],
   "source": [
    "print(s_example)"
   ]
  },
  {
   "cell_type": "markdown",
   "id": "9c0d5b37-ef24-412c-9fb8-ac2e24c06776",
   "metadata": {},
   "source": [
    "Q5. What are some common functions you can use to manipulate data in a Pandas DataFrame? Can\n",
    "you give an example of when you might use one of these functions?\n",
    "\n",
    "Ans - "
   ]
  },
  {
   "cell_type": "markdown",
   "id": "3ff31ffd-f05d-45e6-ad0c-228f29d20289",
   "metadata": {},
   "source": [
    ".head(n) - return the first n rows of a dataframe\n",
    "max- 5 rows\n",
    "\n",
    ".tail(n) - return the last  n rows of a data frame\n",
    "max- 5 columns\n",
    "\n",
    ".describe() - it is used summary statistic for each column\n",
    "\n",
    "shape() - shape returns a tuple representing the dimensions (rows, columns) of the DataFrame.\n",
    "\n",
    "all example "
   ]
  },
  {
   "cell_type": "code",
   "execution_count": 14,
   "id": "7e96ba44-3f4a-4ce4-9acf-dbb7b9b5a27a",
   "metadata": {},
   "outputs": [],
   "source": [
    "data1 = {\n",
    "    'Name': ['ayush', 'sweta', 'simran', 'rajesh','alok' , 'sumit' ],\n",
    "    'Age': [20, 18, 17, 45, 20, 21],\n",
    "    'City': ['New York', 'San Francisco', 'Los Angeles', 'Chicago' , 'dubai' , 'london' ]\n",
    "}\n",
    "\n",
    "df2 = pd.DataFrame(data1)\n",
    "\n"
   ]
  },
  {
   "cell_type": "code",
   "execution_count": 16,
   "id": "38c23e2b-03ea-4f9e-9b03-3d9bbb414255",
   "metadata": {},
   "outputs": [
    {
     "data": {
      "text/html": [
       "<div>\n",
       "<style scoped>\n",
       "    .dataframe tbody tr th:only-of-type {\n",
       "        vertical-align: middle;\n",
       "    }\n",
       "\n",
       "    .dataframe tbody tr th {\n",
       "        vertical-align: top;\n",
       "    }\n",
       "\n",
       "    .dataframe thead th {\n",
       "        text-align: right;\n",
       "    }\n",
       "</style>\n",
       "<table border=\"1\" class=\"dataframe\">\n",
       "  <thead>\n",
       "    <tr style=\"text-align: right;\">\n",
       "      <th></th>\n",
       "      <th>Name</th>\n",
       "      <th>Age</th>\n",
       "      <th>City</th>\n",
       "    </tr>\n",
       "  </thead>\n",
       "  <tbody>\n",
       "    <tr>\n",
       "      <th>0</th>\n",
       "      <td>ayush</td>\n",
       "      <td>20</td>\n",
       "      <td>New York</td>\n",
       "    </tr>\n",
       "    <tr>\n",
       "      <th>1</th>\n",
       "      <td>sweta</td>\n",
       "      <td>18</td>\n",
       "      <td>San Francisco</td>\n",
       "    </tr>\n",
       "    <tr>\n",
       "      <th>2</th>\n",
       "      <td>simran</td>\n",
       "      <td>17</td>\n",
       "      <td>Los Angeles</td>\n",
       "    </tr>\n",
       "    <tr>\n",
       "      <th>3</th>\n",
       "      <td>rajesh</td>\n",
       "      <td>45</td>\n",
       "      <td>Chicago</td>\n",
       "    </tr>\n",
       "  </tbody>\n",
       "</table>\n",
       "</div>"
      ],
      "text/plain": [
       "     Name  Age           City\n",
       "0   ayush   20       New York\n",
       "1   sweta   18  San Francisco\n",
       "2  simran   17    Los Angeles\n",
       "3  rajesh   45        Chicago"
      ]
     },
     "execution_count": 16,
     "metadata": {},
     "output_type": "execute_result"
    }
   ],
   "source": [
    "df2.head(4)"
   ]
  },
  {
   "cell_type": "code",
   "execution_count": 17,
   "id": "d6020b90-8e8d-4522-b415-088e9b6c6468",
   "metadata": {},
   "outputs": [
    {
     "data": {
      "text/html": [
       "<div>\n",
       "<style scoped>\n",
       "    .dataframe tbody tr th:only-of-type {\n",
       "        vertical-align: middle;\n",
       "    }\n",
       "\n",
       "    .dataframe tbody tr th {\n",
       "        vertical-align: top;\n",
       "    }\n",
       "\n",
       "    .dataframe thead th {\n",
       "        text-align: right;\n",
       "    }\n",
       "</style>\n",
       "<table border=\"1\" class=\"dataframe\">\n",
       "  <thead>\n",
       "    <tr style=\"text-align: right;\">\n",
       "      <th></th>\n",
       "      <th>Name</th>\n",
       "      <th>Age</th>\n",
       "      <th>City</th>\n",
       "    </tr>\n",
       "  </thead>\n",
       "  <tbody>\n",
       "    <tr>\n",
       "      <th>1</th>\n",
       "      <td>sweta</td>\n",
       "      <td>18</td>\n",
       "      <td>San Francisco</td>\n",
       "    </tr>\n",
       "    <tr>\n",
       "      <th>2</th>\n",
       "      <td>simran</td>\n",
       "      <td>17</td>\n",
       "      <td>Los Angeles</td>\n",
       "    </tr>\n",
       "    <tr>\n",
       "      <th>3</th>\n",
       "      <td>rajesh</td>\n",
       "      <td>45</td>\n",
       "      <td>Chicago</td>\n",
       "    </tr>\n",
       "    <tr>\n",
       "      <th>4</th>\n",
       "      <td>alok</td>\n",
       "      <td>20</td>\n",
       "      <td>dubai</td>\n",
       "    </tr>\n",
       "    <tr>\n",
       "      <th>5</th>\n",
       "      <td>sumit</td>\n",
       "      <td>21</td>\n",
       "      <td>london</td>\n",
       "    </tr>\n",
       "  </tbody>\n",
       "</table>\n",
       "</div>"
      ],
      "text/plain": [
       "     Name  Age           City\n",
       "1   sweta   18  San Francisco\n",
       "2  simran   17    Los Angeles\n",
       "3  rajesh   45        Chicago\n",
       "4    alok   20          dubai\n",
       "5   sumit   21         london"
      ]
     },
     "execution_count": 17,
     "metadata": {},
     "output_type": "execute_result"
    }
   ],
   "source": [
    "df2.tail()"
   ]
  },
  {
   "cell_type": "code",
   "execution_count": 18,
   "id": "c357922f-73d3-4fba-9294-b4c7a90b9405",
   "metadata": {},
   "outputs": [
    {
     "data": {
      "text/html": [
       "<div>\n",
       "<style scoped>\n",
       "    .dataframe tbody tr th:only-of-type {\n",
       "        vertical-align: middle;\n",
       "    }\n",
       "\n",
       "    .dataframe tbody tr th {\n",
       "        vertical-align: top;\n",
       "    }\n",
       "\n",
       "    .dataframe thead th {\n",
       "        text-align: right;\n",
       "    }\n",
       "</style>\n",
       "<table border=\"1\" class=\"dataframe\">\n",
       "  <thead>\n",
       "    <tr style=\"text-align: right;\">\n",
       "      <th></th>\n",
       "      <th>Age</th>\n",
       "    </tr>\n",
       "  </thead>\n",
       "  <tbody>\n",
       "    <tr>\n",
       "      <th>count</th>\n",
       "      <td>6.000000</td>\n",
       "    </tr>\n",
       "    <tr>\n",
       "      <th>mean</th>\n",
       "      <td>23.500000</td>\n",
       "    </tr>\n",
       "    <tr>\n",
       "      <th>std</th>\n",
       "      <td>10.634848</td>\n",
       "    </tr>\n",
       "    <tr>\n",
       "      <th>min</th>\n",
       "      <td>17.000000</td>\n",
       "    </tr>\n",
       "    <tr>\n",
       "      <th>25%</th>\n",
       "      <td>18.500000</td>\n",
       "    </tr>\n",
       "    <tr>\n",
       "      <th>50%</th>\n",
       "      <td>20.000000</td>\n",
       "    </tr>\n",
       "    <tr>\n",
       "      <th>75%</th>\n",
       "      <td>20.750000</td>\n",
       "    </tr>\n",
       "    <tr>\n",
       "      <th>max</th>\n",
       "      <td>45.000000</td>\n",
       "    </tr>\n",
       "  </tbody>\n",
       "</table>\n",
       "</div>"
      ],
      "text/plain": [
       "             Age\n",
       "count   6.000000\n",
       "mean   23.500000\n",
       "std    10.634848\n",
       "min    17.000000\n",
       "25%    18.500000\n",
       "50%    20.000000\n",
       "75%    20.750000\n",
       "max    45.000000"
      ]
     },
     "execution_count": 18,
     "metadata": {},
     "output_type": "execute_result"
    }
   ],
   "source": [
    "df2.describe()"
   ]
  },
  {
   "cell_type": "code",
   "execution_count": 20,
   "id": "3e0f9258-8444-4bdb-9c53-01212364c6e8",
   "metadata": {},
   "outputs": [
    {
     "data": {
      "text/plain": [
       "(6, 3)"
      ]
     },
     "execution_count": 20,
     "metadata": {},
     "output_type": "execute_result"
    }
   ],
   "source": [
    "df2.shape"
   ]
  },
  {
   "cell_type": "markdown",
   "id": "35ac3ac0-630c-46c8-ba85-4f986f482d36",
   "metadata": {},
   "source": [
    "Q6. Which of the following is mutable in nature Series, DataFrame, Panel?\n",
    "\n",
    "Ans- \n",
    "Both Pandas Series and DataFrames are mutable, allowing for changes to their values after creation. However, Panels are deprecated, and it's recommended to use other data structures for three-dimensional data."
   ]
  },
  {
   "cell_type": "markdown",
   "id": "fd8e74be-5489-49b7-b7ea-3291037535ee",
   "metadata": {},
   "source": [
    "Q7. Create a DataFrame using multiple Series. Explain with an example.\n"
   ]
  },
  {
   "cell_type": "code",
   "execution_count": 24,
   "id": "f9b7b68c-5c90-4338-9ab4-f26a809a213b",
   "metadata": {},
   "outputs": [],
   "source": [
    "NAMES = pd.Series([\"ROHIT SHARMA\", \"VIRAT KHOLI\", \"MS DHONI\", \"SACHIN TENDULKAR\", \"VIRENDER SEHWAG\"])\n",
    "\n",
    "AGE =  pd.Series([36, 34, 42, 49, 44])\n",
    "\n",
    "TOTAL_RUNS = pd.Series([16458, 21901, 10773, 34357, 17253])\n",
    "\n",
    "HALF_CENTURIES = pd.Series([73, 105, 73, 164, 721])\n",
    "\n",
    "CENTURIES = pd.Series([29, 76, 10, 100, 38])\n",
    "\n",
    "data6 = {\n",
    "    \"NAMES\": NAMES,\n",
    "    \"AGE\" : AGE,\n",
    "    \"TOTAL RUNS\": TOTAL_RUNS, \n",
    "    \"HALF CENTURIES\" : HALF_CENTURIES, \n",
    "    \"CENTURIES\" : CENTURIES\n",
    "}\n",
    "\n",
    "CRICKET_DETAILS = pd.DataFrame(data6)"
   ]
  },
  {
   "cell_type": "code",
   "execution_count": 25,
   "id": "d27b8475-9360-4cd4-90b1-583e7bba46ba",
   "metadata": {},
   "outputs": [
    {
     "data": {
      "text/html": [
       "<div>\n",
       "<style scoped>\n",
       "    .dataframe tbody tr th:only-of-type {\n",
       "        vertical-align: middle;\n",
       "    }\n",
       "\n",
       "    .dataframe tbody tr th {\n",
       "        vertical-align: top;\n",
       "    }\n",
       "\n",
       "    .dataframe thead th {\n",
       "        text-align: right;\n",
       "    }\n",
       "</style>\n",
       "<table border=\"1\" class=\"dataframe\">\n",
       "  <thead>\n",
       "    <tr style=\"text-align: right;\">\n",
       "      <th></th>\n",
       "      <th>NAMES</th>\n",
       "      <th>AGE</th>\n",
       "      <th>TOTAL RUNS</th>\n",
       "      <th>HALF CENTURIES</th>\n",
       "      <th>CENTURIES</th>\n",
       "    </tr>\n",
       "  </thead>\n",
       "  <tbody>\n",
       "    <tr>\n",
       "      <th>0</th>\n",
       "      <td>ROHIT SHARMA</td>\n",
       "      <td>36</td>\n",
       "      <td>16458</td>\n",
       "      <td>73</td>\n",
       "      <td>29</td>\n",
       "    </tr>\n",
       "    <tr>\n",
       "      <th>1</th>\n",
       "      <td>VIRAT KHOLI</td>\n",
       "      <td>34</td>\n",
       "      <td>21901</td>\n",
       "      <td>105</td>\n",
       "      <td>76</td>\n",
       "    </tr>\n",
       "    <tr>\n",
       "      <th>2</th>\n",
       "      <td>MS DHONI</td>\n",
       "      <td>42</td>\n",
       "      <td>10773</td>\n",
       "      <td>73</td>\n",
       "      <td>10</td>\n",
       "    </tr>\n",
       "    <tr>\n",
       "      <th>3</th>\n",
       "      <td>SACHIN TENDULKAR</td>\n",
       "      <td>49</td>\n",
       "      <td>34357</td>\n",
       "      <td>164</td>\n",
       "      <td>100</td>\n",
       "    </tr>\n",
       "    <tr>\n",
       "      <th>4</th>\n",
       "      <td>VIRENDER SEHWAG</td>\n",
       "      <td>44</td>\n",
       "      <td>17253</td>\n",
       "      <td>721</td>\n",
       "      <td>38</td>\n",
       "    </tr>\n",
       "  </tbody>\n",
       "</table>\n",
       "</div>"
      ],
      "text/plain": [
       "              NAMES  AGE  TOTAL RUNS  HALF CENTURIES  CENTURIES\n",
       "0      ROHIT SHARMA   36       16458              73         29\n",
       "1       VIRAT KHOLI   34       21901             105         76\n",
       "2          MS DHONI   42       10773              73         10\n",
       "3  SACHIN TENDULKAR   49       34357             164        100\n",
       "4   VIRENDER SEHWAG   44       17253             721         38"
      ]
     },
     "execution_count": 25,
     "metadata": {},
     "output_type": "execute_result"
    }
   ],
   "source": [
    "CRICKET_DETAILS"
   ]
  },
  {
   "cell_type": "code",
   "execution_count": null,
   "id": "a469d25c-7899-494e-af85-ec3d7bf89b89",
   "metadata": {},
   "outputs": [],
   "source": []
  }
 ],
 "metadata": {
  "kernelspec": {
   "display_name": "Python 3 (ipykernel)",
   "language": "python",
   "name": "python3"
  },
  "language_info": {
   "codemirror_mode": {
    "name": "ipython",
    "version": 3
   },
   "file_extension": ".py",
   "mimetype": "text/x-python",
   "name": "python",
   "nbconvert_exporter": "python",
   "pygments_lexer": "ipython3",
   "version": "3.10.8"
  }
 },
 "nbformat": 4,
 "nbformat_minor": 5
}
